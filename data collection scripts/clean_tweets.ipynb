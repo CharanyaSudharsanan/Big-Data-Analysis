{
 "cells": [
  {
   "cell_type": "code",
   "execution_count": 4,
   "metadata": {},
   "outputs": [],
   "source": [
    "import re\n",
    "import pandas as pd\n",
    "import re\n",
    "\n",
    "d_f = pd.read_csv(\"C:/Users/dues1/Desktop/R_DIC_Lab/Lab2/Lab2/tweets_trump_1_filter.csv\")\n",
    "sb = \"\"\n",
    "string = \"\"\n",
    "for i in range(len(d_f)):\n",
    "    string = string + ' '+ d_f.loc[i, 'text'] \n",
    "\n",
    "clean_string = re.sub(r'\\w+:\\/{2}[\\d\\w-]+(\\.[\\d\\w-]+)*(?:(?:\\/[^\\s/]*))*', '', string)\n",
    "clean_string1 = re.sub(r\"[^a-zA-Z]+\", ' ', clean_string)\n",
    "clean_string1 = ' '.join([w for w in clean_string1.split() if len(w)>1])\n",
    "clean_string1.lower()\n",
    "with open(\"tweets_trump_2.txt\", \"w\") as text_file:\n",
    "    text_file.write(\"Tweets : %s\" % clean_string1)\n"
   ]
  },
  {
   "cell_type": "code",
   "execution_count": null,
   "metadata": {},
   "outputs": [],
   "source": []
  }
 ],
 "metadata": {
  "kernelspec": {
   "display_name": "Python 2",
   "language": "python",
   "name": "python2"
  },
  "language_info": {
   "codemirror_mode": {
    "name": "ipython",
    "version": 2
   },
   "file_extension": ".py",
   "mimetype": "text/x-python",
   "name": "python",
   "nbconvert_exporter": "python",
   "pygments_lexer": "ipython2",
   "version": "2.7.14"
  }
 },
 "nbformat": 4,
 "nbformat_minor": 2
}
