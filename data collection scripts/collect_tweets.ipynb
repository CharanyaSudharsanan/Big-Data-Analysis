{
 "cells": [
  {
   "cell_type": "code",
   "execution_count": 1,
   "metadata": {},
   "outputs": [
    {
     "name": "stderr",
     "output_type": "stream",
     "text": [
      "Warning message:\n",
      "\"package 'twitteR' was built under R version 3.4.4\"\n",
      "Attaching package: 'plyr'\n",
      "\n",
      "The following object is masked from 'package:maps':\n",
      "\n",
      "    ozone\n",
      "\n",
      "The following object is masked from 'package:twitteR':\n",
      "\n",
      "    id\n",
      "\n"
     ]
    },
    {
     "name": "stdout",
     "output_type": "stream",
     "text": [
      "[1] \"Using direct authentication\"\n"
     ]
    }
   ],
   "source": [
    "library(twitteR)\n",
    "library(ggplot2)\n",
    "library(ggmap)\n",
    "library(maps)\n",
    "library(RJSONIO)\n",
    "library(plyr)\n",
    "api_key = \"wnHmeeIU9tpysy8Fr4yH5UrhI\"\n",
    "api_secret = \"SnnMyjfXwH3Rk8mxdNOC9rsDCvSvNT2c2D2iCRON8C9jfW1izH\"\n",
    "access_token = \"963179233144115200-jOuATmmlRwJYIwjR6vYcLhQxxpg88y0\"\n",
    "access_secret = \"MNvL9hCGCpd5CWUd7qHEEpwXE1JxNB7GHDkHaVgBitX6f\"\n",
    "\n",
    "\n",
    "setup_twitter_oauth(api_key, api_secret, access_token, access_secret)\n",
    "\n",
    "user_input <- \"trump\"\n",
    "user_input_number <- 2000\n",
    "\n",
    "tweets = searchTwitter(\"trump -filter:retweets\",n=user_input_number,lang='en',retryOnRateLimit=120,since='2018-04-04', until='2018-04-05')\n",
    "tweetsDF = twListToDF(tweets)\n",
    "write.csv(tweetsDF,\"tweets_trump_1_filter_oneday.csv\")\n"
   ]
  },
  {
   "cell_type": "code",
   "execution_count": null,
   "metadata": {},
   "outputs": [],
   "source": []
  }
 ],
 "metadata": {
  "kernelspec": {
   "display_name": "R",
   "language": "R",
   "name": "ir"
  },
  "language_info": {
   "codemirror_mode": "r",
   "file_extension": ".r",
   "mimetype": "text/x-r-source",
   "name": "R",
   "pygments_lexer": "r",
   "version": "3.4.3"
  }
 },
 "nbformat": 4,
 "nbformat_minor": 2
}
